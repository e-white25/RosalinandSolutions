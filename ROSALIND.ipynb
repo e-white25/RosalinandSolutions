{
  "nbformat": 4,
  "nbformat_minor": 0,
  "metadata": {
    "colab": {
      "provenance": [],
      "authorship_tag": "ABX9TyOKAkD1f/CyygGtnJBO+XVH",
      "include_colab_link": true
    },
    "kernelspec": {
      "name": "python3",
      "display_name": "Python 3"
    },
    "language_info": {
      "name": "python"
    }
  },
  "cells": [
    {
      "cell_type": "markdown",
      "metadata": {
        "id": "view-in-github",
        "colab_type": "text"
      },
      "source": [
        "<a href=\"https://colab.research.google.com/github/e-white25/RosalinandSolutions/blob/main/ROSALIND.ipynb\" target=\"_parent\"><img src=\"https://colab.research.google.com/assets/colab-badge.svg\" alt=\"Open In Colab\"/></a>"
      ]
    },
    {
      "cell_type": "markdown",
      "source": [
        "# DNA/RNA"
      ],
      "metadata": {
        "id": "K7wYOZPyBJXA"
      }
    },
    {
      "cell_type": "code",
      "execution_count": null,
      "metadata": {
        "colab": {
          "base_uri": "https://localhost:8080/"
        },
        "id": "IyNBwBjJA9ma",
        "outputId": "8cd7011e-d63c-4156-c469-0d24de13a208"
      },
      "outputs": [
        {
          "output_type": "execute_result",
          "data": {
            "text/plain": [
              "(17, 12, 20, 21)"
            ]
          },
          "metadata": {},
          "execution_count": 20
        }
      ],
      "source": [
        "##ID: DNA\n",
        "#Return: Four integers (separated by spaces) counting the respective number of times that the symbols 'A', 'C', 'G', and 'T' occur in s\n",
        "\n",
        "# Sample Dataset\n",
        "seq1 = 'AGCTTTTCATTCTGACTGCAACGGGCAATATGTCTCTGTGTGGATTAAAAAAAGAGTGTCTGATAGCAGC'\n",
        "# Sample Output\n",
        "\n",
        "def nucleotides(seq1):\n",
        "  count_g = seq1.count('G')\n",
        "  count_c = seq1.count('C')\n",
        "  count_a= seq1.count('A')\n",
        "  count_t = seq1.count('T')\n",
        "  return count_g, count_c, count_a, count_t\n",
        "\n",
        "nucleotides(seq1)"
      ]
    },
    {
      "cell_type": "code",
      "source": [
        "##ID: RNA\n",
        "#Given: A DNA string\n",
        "#Return: The RNA string (not complementary, just replace Thymine w/Uracil)\n",
        "\n",
        "#Sample Dataset\n",
        "DNA_seq = 'GATGGAACTTGACTACGTAAATT'\n",
        "\n",
        "def transcribe(DNA_seq):\n",
        "  return DNA_seq.replace('T', 'U')\n",
        "\n",
        "transcribe(DNA_seq)"
      ],
      "metadata": {
        "colab": {
          "base_uri": "https://localhost:8080/",
          "height": 36
        },
        "id": "kes4D0wmHgou",
        "outputId": "4ff73a2b-bea2-48b6-89f4-0811da6dcaa7"
      },
      "execution_count": null,
      "outputs": [
        {
          "output_type": "execute_result",
          "data": {
            "text/plain": [
              "'GAUGGAACUUGACUACGUAAAUU'"
            ],
            "application/vnd.google.colaboratory.intrinsic+json": {
              "type": "string"
            }
          },
          "metadata": {},
          "execution_count": 23
        }
      ]
    },
    {
      "cell_type": "code",
      "source": [
        "##ID: REVC\n",
        "# Given: A DNA string\n",
        "# Return: The reverse complement\n",
        "\n",
        "#Sample Dataset\n",
        "DNA_seq = 'AAAACCCGGT'\n",
        "\n",
        "# def reverse_complement(DNA_seq):\n",
        "#   DNA_seq = DNA_seq.replace('A', 't')\n",
        "#   DNA_seq = DNA_seq.replace('T', 'a')\n",
        "#   DNA_seq = DNA_seq.replace('C', 'g')\n",
        "#   DNA_seq = DNA_seq.replace('G', 'c')\n",
        "#   return DNA_seq(reverse_complement)\n",
        "\n",
        "cDNA_lib = {'A':'T', 'T':'A', 'C':'G', 'G':'C'}\n",
        "for b in DNA_seq [0:len(DNA_seq)]:\n",
        "  seq_complement = cDNA_lib[b]\n",
        "from os import replace\n",
        "\n",
        "##ID: Transcription\n",
        "# Given: A DNA string\n",
        "# Return: The reverse complement\n",
        "\n",
        "#Sample Dataset\n",
        "DNA_seq = 'AAAACCCGGT'\n",
        "\n",
        "# This works because there is not redundancy (as there would be if cDNA was capitalized) but isn't ideal\n",
        "# def reverse_complement(DNA_seq):\n",
        "#   DNA_seq = DNA_seq.replace('A', 't')\n",
        "#   DNA_seq = DNA_seq.replace('T', 'a')\n",
        "#   DNA_seq = DNA_seq.replace('C', 'g')\n",
        "#   DNA_seq = DNA_seq.replace('G', 'c')\n",
        "#   return DNA_seq(reverse_complement)\n",
        "\n",
        "cDNA_lib = {'A':'T', 'T':'A', 'C':'G', 'G':'C'}\n",
        "seq_complement = \"\" #create an empty string\n",
        "for base in DNA_seq:\n",
        "  seq_complement += cDNA_lib[base] #append each base to empty string\n",
        "print(seq_complement[::-1])\n"
      ],
      "metadata": {
        "colab": {
          "base_uri": "https://localhost:8080/"
        },
        "id": "GTJ2gC9eV6r6",
        "outputId": "c4eb4667-4f29-4b5f-bb71-4df2c7c9c54b"
      },
      "execution_count": null,
      "outputs": [
        {
          "output_type": "stream",
          "name": "stdout",
          "text": [
            "ACCGGGTTTT\n"
          ]
        }
      ]
    },
    {
      "cell_type": "code",
      "source": [
        "##ID: REVC\n",
        "##Given the complementary output, provide the DNA seq Imput\n",
        "Output = 'ACCGGGTTTT'\n",
        "\n",
        "DNA_seq_lib = {'A':'T', 'T':'A', 'C':'G', 'G':'C'}\n",
        "DNA_imput = \"\"\n",
        "for b in Output:\n",
        "  DNA_imput += DNA_seq_lib[b]\n",
        "print(DNA_imput[::-1])"
      ],
      "metadata": {
        "colab": {
          "base_uri": "https://localhost:8080/"
        },
        "id": "oUrLEnchqf-x",
        "outputId": "3ce8f0c5-9b7c-41ec-a7ae-5e5b77ff0d0c"
      },
      "execution_count": null,
      "outputs": [
        {
          "output_type": "stream",
          "name": "stdout",
          "text": [
            "AAAACCCGGT\n"
          ]
        }
      ]
    },
    {
      "cell_type": "code",
      "source": [
        "##ID: GC\n",
        "\n",
        "#A commonly used method of string labeling for DNA > FASTA format. In this format, the string is introduced by a line that begins with '>',\n",
        "# followed by labeling info. Subsequent lines contain the string itself; the first line to begin with '>' indicates the label of the next string.\n",
        "\n",
        "#In Rosalind's implementation, a string in FASTA format will be labeled by the ID \"Rosalind_xxxx\", where \"xxxx\" denotes a four-digit code between 0000 and 9999.\n",
        "#Given: At most 10 DNA strings in FASTA format (of length at most 1 kbp each).\n",
        "#Return: The ID of the string having the highest GC-content, followed by the GC-content of that string.\n",
        "#Rosalind allows for a default error of 0.001 in all decimal answers unless otherwise stated; please see the note on absolute error below.\n",
        "\n",
        "# Sample Dataset\n",
        "# >Rosalind_6404\n",
        "# CCTGCGGAAGATCGGCACTAGAATAGCCAGAACCGTTTCTCTGAGGCTTCCGGCCTTCCC\n",
        "# TCCCACTAATAATTCTGAGG\n",
        "# >Rosalind_5959\n",
        "# CCATCGGTAGCGCATCCTTAGTCCAATTAAGTCCCTATCCAGGCGCTCCGCCGAAGGTCT\n",
        "# ATATCCATTTGTCAGCAGACACGC\n",
        "# >Rosalind_0808\n",
        "# CCACCCTCGTGGTATGGCTAGGCATTCAGGAACCGGAGAACGCTTCAGACCAGCCCGGAC\n",
        "# TGGGAACCTGCGGGCAGTAGGTGGAAT"
      ],
      "metadata": {
        "colab": {
          "base_uri": "https://localhost:8080/",
          "height": 110
        },
        "id": "FkFLCgcgtYJR",
        "outputId": "31995b97-4e36-42e7-fa96-44aabf1c3066"
      },
      "execution_count": null,
      "outputs": [
        {
          "output_type": "error",
          "ename": "SyntaxError",
          "evalue": "invalid syntax (<ipython-input-17-0d6b862f8a5f>, line 10)",
          "traceback": [
            "\u001b[0;36m  File \u001b[0;32m\"<ipython-input-17-0d6b862f8a5f>\"\u001b[0;36m, line \u001b[0;32m10\u001b[0m\n\u001b[0;31m    Sample Dataset\u001b[0m\n\u001b[0m           ^\u001b[0m\n\u001b[0;31mSyntaxError\u001b[0m\u001b[0;31m:\u001b[0m invalid syntax\n"
          ]
        }
      ]
    },
    {
      "cell_type": "code",
      "source": [
        "import pandas as pd\n",
        "\n",
        "# Sample dataset as a multi-line string\n",
        "data = \"\"\">Rosalind_6404\n",
        "CCTGCGGAAGATCGGCACTAGAATAGCCAGAACCGTTTCTCTGAGGCTTCCGGCCTTCCC\n",
        "TCCCACTAATAATTCTGAGG\n",
        ">Rosalind_5959\n",
        "CCATCGGTAGCGCATCCTTAGTCCAATTAAGTCCCTATCCAGGCGCTCCGCCGAAGGTCT\n",
        "ATATCCATTTGTCAGCAGACACGC\n",
        ">Rosalind_0808\n",
        "CCACCCTCGTGGTATGGCTAGGCATTCAGGAACCGGAGAACGCTTCAGACCAGCCCGGAC\n",
        "TGGGAACCTGCGGGCAGTAGGTGGAAT\"\"\"\n",
        "\n",
        "# Splitting data into lines\n",
        "lines = data.split(\"\\n\")\n",
        "\n",
        "# Dictionary to store sequence data; keys are the ID sequences are the value\n",
        "sequences = {}\n",
        "\n",
        "# Parse the data\n",
        "for line in lines:\n",
        "    if line.startswith(\">\"):\n",
        "        current_label = line[1:]  # Remove \">\" to get the identifier\n",
        "        sequences[current_label] = \"\"  # Initialize an empty string for the sequence\n",
        "    else:\n",
        "        sequences[current_label] += line.strip()  # Append sequence\n",
        "\n",
        "# Convert to a DataFrame\n",
        "seq_df = pd.DataFrame(sequences.items(), columns=[\"ID\", \"Sequence\"])\n",
        "\n",
        "# Display DataFrame\n",
        "print(seq_df)\n",
        "\n",
        "#Return: The ID of the string having the highest GC-content, followed by the GC-content of that string.\n",
        "\n",
        "# Function to calculate GC content\n",
        "def GC_content(sequence):\n",
        "    GC_count = sequence.count('G') + sequence.count('C')\n",
        "    return (GC_count / len(sequence)) * 100\n",
        "\n",
        "# Add column with GC content:\n",
        "seq_df[\"GC_Content\"] = seq_df[\"Sequence\"].apply(GC_content)\n",
        "print(seq_df)\n",
        "\n",
        "# Print ID with max GC content\n",
        "# .idxmax() function finds the index of the maximum value in the \"GC_Content\" column.\n",
        "max_GC_ID = seq_df.loc[seq_df[\"GC_Content\"].idxmax()]\n",
        "print(\"Highest GC Content:\", max_GC_ID)"
      ],
      "metadata": {
        "id": "BXOeNmRJ3wqM",
        "colab": {
          "base_uri": "https://localhost:8080/"
        },
        "outputId": "8f30c162-75de-4bbf-be9d-b4a710d20aef"
      },
      "execution_count": null,
      "outputs": [
        {
          "output_type": "stream",
          "name": "stdout",
          "text": [
            "              ID                                           Sequence\n",
            "0  Rosalind_6404  CCTGCGGAAGATCGGCACTAGAATAGCCAGAACCGTTTCTCTGAGG...\n",
            "1  Rosalind_5959  CCATCGGTAGCGCATCCTTAGTCCAATTAAGTCCCTATCCAGGCGC...\n",
            "2  Rosalind_0808  CCACCCTCGTGGTATGGCTAGGCATTCAGGAACCGGAGAACGCTTC...\n",
            "              ID                                           Sequence  \\\n",
            "0  Rosalind_6404  CCTGCGGAAGATCGGCACTAGAATAGCCAGAACCGTTTCTCTGAGG...   \n",
            "1  Rosalind_5959  CCATCGGTAGCGCATCCTTAGTCCAATTAAGTCCCTATCCAGGCGC...   \n",
            "2  Rosalind_0808  CCACCCTCGTGGTATGGCTAGGCATTCAGGAACCGGAGAACGCTTC...   \n",
            "\n",
            "   GC_Content  \n",
            "0   53.750000  \n",
            "1   53.571429  \n",
            "2   60.919540  \n",
            "Highest GC Content: ID                                                Rosalind_0808\n",
            "Sequence      CCACCCTCGTGGTATGGCTAGGCATTCAGGAACCGGAGAACGCTTC...\n",
            "GC_Content                                             60.91954\n",
            "Name: 2, dtype: object\n"
          ]
        }
      ]
    },
    {
      "cell_type": "code",
      "source": [
        "##ID: HAMM\n",
        "\n",
        "# Figure 2. The Hamming distance between these two strings is 7. Mismatched symbols are colored red.\n",
        "# Given two strings s and t of equal length, the Hamming distance between s and t, denoted dH(s,t),\n",
        "# is the number of corresponding symbols that differ in s and t.\n",
        "\n",
        "## PROBLEM: Given: Two DNA strings s and t of equal length (not exceeding 1 kbp).\n",
        "## Return: The Hamming distance dH(s,t)\n",
        "\n",
        "#Sample Dataset\n",
        "\n",
        "s = 'GAGCCTACTAACGGGAT'\n",
        "t = 'CATCGTAATGACGGCCT'\n",
        "\n",
        "# Variable to store mismatches:\n",
        "mismatched_bases = 0\n",
        "\n",
        "# Iterate through each sequence\n",
        "for i in range(len(s)):\n",
        "    nuc_s = s[i]\n",
        "    nuc_t = t[i]\n",
        "\n",
        "    if nuc_s != nuc_t:  # Compare\n",
        "        mismatched_bases += 1  # Increase mismatch count if different\n",
        "\n",
        "print(\"Total mismatches:\", mismatched_bases)\n",
        "\n"
      ],
      "metadata": {
        "colab": {
          "base_uri": "https://localhost:8080/"
        },
        "id": "S8gNZJBTDLUk",
        "outputId": "91960560-7b59-4cf8-a904-1b0def1560d2"
      },
      "execution_count": null,
      "outputs": [
        {
          "output_type": "stream",
          "name": "stdout",
          "text": [
            "Total mismatches: 7\n"
          ]
        }
      ]
    },
    {
      "cell_type": "code",
      "source": [
        "\n",
        "##ID: PROT\n",
        "\n",
        "#Problem: The 20 commonly occurring amino acids are abbreviated by using 20 letters (all letters except for B, J, O, U, X, and Z).\n",
        "#Protein strings are constructed from these 20 symbols. Henceforth, the term genetic string will incorporate protein strings along with DNA strings and RNA strings.\n",
        "\n",
        "#The RNA codon table dictates the details regarding the encoding of specific codons into the amino acid alphabet.\n",
        "\n",
        "##Given: An RNA string s corresponding to a strand of mRNA (of length at most 10 kbp).\n",
        "##Return: The protein string encoded by s\n",
        "\n",
        "#Sample Dataset\n",
        "RNA = 'AUGGCCAUGGCGCCCAGAACUGAGAUCAAUAGUACCCGUAUUAACGGGUGA'\n",
        "\n",
        "#Create Dictionary\n",
        "aa = {}\n",
        "\n",
        "codon_table = \"\"\"\n",
        "UUU F    CUU L    AUU I    GUU V\n",
        "UUC F    CUC L    AUC I    GUC V\n",
        "UUA L    CUA L    AUA I    GUA V\n",
        "UUG L    CUG L    AUG M    GUG V\n",
        "UCU S    CCU P    ACU T    GCU A\n",
        "UCC S    CCC P    ACC T    GCC A\n",
        "UCA S    CCA P    ACA T    GCA A\n",
        "UCG S    CCG P    ACG T    GCG A\n",
        "UAU Y    CAU H    AAU N    GAU D\n",
        "UAC Y    CAC H    AAC N    GAC D\n",
        "UAA Stop CAA Q    AAA K    GAA E\n",
        "UAG Stop CAG Q    AAG K    GAG E\n",
        "UGU C    CGU R    AGU S    GGU G\n",
        "UGC C    CGC R    AGC S    GGC G\n",
        "UGA Stop CGA R    AGA R    GGA G\n",
        "UGG W    CGG R    AGG R    GGG G\n",
        "\"\"\"\n",
        "\n",
        "# Process the raw codon table\n",
        "for line in codon_table.strip().split(\"\\n\"):  # Split into lines\n",
        "    Codon_AA = line.split()  # Split each line into parts (codon, amino acid)\n",
        "    for i in range(0, len(Codon_AA), 2):  # Process in pairs (codon, amino acid)\n",
        "        codon = Codon_AA[i]\n",
        "        amino_acid = Codon_AA[i+1]\n",
        "        aa[codon] = amino_acid  # Add to dictionary\n",
        "\n",
        "translated_RNA = \"\"\n",
        "for i in range(0, len(RNA), 3):\n",
        "    codon = RNA[i:i+3]\n",
        "    #print(codon)\n",
        "    if aa[codon] == \"Stop\":\n",
        "        break\n",
        "    translated_RNA += aa[codon] #ppending the amino acid corresponding to each codon to a string called translated_RNA\n",
        "\n",
        "print(translated_RNA)\n",
        "\n",
        "\n"
      ],
      "metadata": {
        "colab": {
          "base_uri": "https://localhost:8080/"
        },
        "id": "t5tEFVT4JF0O",
        "outputId": "15bdba93-24f6-4fdb-c141-9ce85f601e21"
      },
      "execution_count": null,
      "outputs": [
        {
          "output_type": "stream",
          "name": "stdout",
          "text": [
            "MAMAPRTEINSTRING\n"
          ]
        }
      ]
    },
    {
      "cell_type": "code",
      "source": [
        "###ID: SUBS\n",
        "###Finding a Motif in DNA\n",
        "#Problem: Given two strings s and t, t is a substring of s if t is contained as a contiguous collection of symbols in s (as a result, t must be no longer than s).\n",
        "#Given: Two DNA strings s and t (each of length at most 1 kbp).\n",
        "# Return: All locations of t as a substring of s.\n",
        "\n",
        "### Sample Dataset\n",
        "# GATATATGCATATACTT\n",
        "# ATAT\n",
        "\n",
        "## PROCESS:\n",
        "#1 Identify where the motif \"ATAT\" appears in the string, starting with the first position, by iterating through s, checking if the substring starting at each position matches 𝑡:\n",
        "### for loop: determine how many starting positions of the substring exist in s\n",
        "#2 Store 1-based positions of matches\n",
        "#3 Check if substring matches t\n",
        "#4 Convert 0-based to 1-based index\n",
        "s = 'GATATATGCATATACTT'\n",
        "t = 'ATAT'\n",
        "\n",
        "# for i in range(len(s) - len(t) + 1):  # Iterate through possible start positions within s\n",
        "#     if s[i:i+len(t)] == t:  # extracts a substring from s, starting at index i and ending at i + len(t), and checks if it equals \"ATAT\"\n",
        "#         print(i + 1)  # Convert to 1-based index\n",
        "\n",
        "def ATAT_motif_locations(s, t):\n",
        "    positions = []  # Store 1-based positions of matches\n",
        "    for i in range(len(s) - len(t) + 1):  # Iterate through s\n",
        "        if s[i:i+len(t)] == t:  # Check if substring matches t\n",
        "            positions.append(i + 1)  # Convert 0-based to 1-based index\n",
        "    return positions #return the positions list\n",
        "\n",
        "# Call the function to get the positions and then print them\n",
        "positions = ATAT_motif_locations(s, t)\n",
        "print(positions)\n",
        "\n"
      ],
      "metadata": {
        "id": "5KWcZEmMLcBC",
        "colab": {
          "base_uri": "https://localhost:8080/"
        },
        "outputId": "82c5bce3-6cbd-476c-da90-e339046807c4"
      },
      "execution_count": 7,
      "outputs": [
        {
          "output_type": "stream",
          "name": "stdout",
          "text": [
            "[2, 4, 10]\n"
          ]
        }
      ]
    },
    {
      "cell_type": "code",
      "source": [
        "###ID: PRTM\n",
        "##Problem: In a weighted alphabet, every symbol is assigned a positive real number called a weight. A string formed from a weighted alphabet is called a weighted string,\n",
        "#and its weight is equal to the sum of the weights of its symbols. The standard weight assigned to each member of the 20-symbol amino acid alphabet is the monoisotopic mass of the corresponding amino acid.\n",
        "\n",
        "#Given: A protein string P of length at most 1000 aa.\n",
        "#Return: The total weight of P (Consult the monoisotopic mass table)\n",
        "\n",
        "### Approach:\n",
        "#1 make a dictionary to store amino acid:specific monoisotopic mass\n",
        "#2 Iterate Through the Protein Stringand retireve the mass from dictionary\n",
        "#3 Sum up all the retrieved values\n",
        "\n",
        "###Sample Dataset\n",
        "p = 'SKADYEK'\n",
        "\n",
        "monoisotopic_mass_table = {\n",
        "    'A': 71.03711, 'C': 103.00919, 'D': 115.02694, 'E': 129.04259,\n",
        "    'F': 147.06841, 'G': 57.02146, 'H': 137.05891, 'I': 113.08406,\n",
        "    'K': 128.09496, 'L': 113.08406, 'M': 131.04049, 'N': 114.04293,\n",
        "    'P': 97.05276, 'Q': 128.05858, 'R': 156.10111, 'S': 87.03203,\n",
        "    'T': 101.04768, 'V': 99.06841, 'W': 186.07931, 'Y': 163.06333\n",
        "}\n",
        "\n",
        "total_mass = 0\n",
        "\n",
        "for aa in p:\n",
        "  mass = monoisotopic_mass_table[aa]\n",
        "  total_mass += mass\n",
        "print(total_mass)"
      ],
      "metadata": {
        "colab": {
          "base_uri": "https://localhost:8080/"
        },
        "id": "Lz0RQxH8trXm",
        "outputId": "80ed410d-8989-489a-fa89-19f05e3d0cc5"
      },
      "execution_count": 6,
      "outputs": [
        {
          "output_type": "stream",
          "name": "stdout",
          "text": [
            "821.3919199999999\n"
          ]
        }
      ]
    }
  ]
}