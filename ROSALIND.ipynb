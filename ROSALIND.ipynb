{
  "nbformat": 4,
  "nbformat_minor": 0,
  "metadata": {
    "colab": {
      "provenance": [],
      "authorship_tag": "ABX9TyP1ivudNBpTILqNbiUy3LHG",
      "include_colab_link": true
    },
    "kernelspec": {
      "name": "python3",
      "display_name": "Python 3"
    },
    "language_info": {
      "name": "python"
    }
  },
  "cells": [
    {
      "cell_type": "markdown",
      "metadata": {
        "id": "view-in-github",
        "colab_type": "text"
      },
      "source": [
        "<a href=\"https://colab.research.google.com/github/e-white25/RosalinandSolutions/blob/main/ROSALIND.ipynb\" target=\"_parent\"><img src=\"https://colab.research.google.com/assets/colab-badge.svg\" alt=\"Open In Colab\"/></a>"
      ]
    },
    {
      "cell_type": "markdown",
      "source": [
        "# DNA/RNA"
      ],
      "metadata": {
        "id": "K7wYOZPyBJXA"
      }
    },
    {
      "cell_type": "code",
      "execution_count": null,
      "metadata": {
        "colab": {
          "base_uri": "https://localhost:8080/"
        },
        "id": "IyNBwBjJA9ma",
        "outputId": "8cd7011e-d63c-4156-c469-0d24de13a208"
      },
      "outputs": [
        {
          "output_type": "execute_result",
          "data": {
            "text/plain": [
              "(17, 12, 20, 21)"
            ]
          },
          "metadata": {},
          "execution_count": 20
        }
      ],
      "source": [
        "##ID: DNA\n",
        "#Return: Four integers (separated by spaces) counting the respective number of times that the symbols 'A', 'C', 'G', and 'T' occur in s\n",
        "\n",
        "# Sample Dataset\n",
        "seq1 = 'AGCTTTTCATTCTGACTGCAACGGGCAATATGTCTCTGTGTGGATTAAAAAAAGAGTGTCTGATAGCAGC'\n",
        "# Sample Output\n",
        "\n",
        "def nucleotides(seq1):\n",
        "  count_g = seq1.count('G')\n",
        "  count_c = seq1.count('C')\n",
        "  count_a= seq1.count('A')\n",
        "  count_t = seq1.count('T')\n",
        "  return count_g, count_c, count_a, count_t\n",
        "\n",
        "nucleotides(seq1)"
      ]
    },
    {
      "cell_type": "code",
      "source": [
        "##ID: RNA\n",
        "#Given: A DNA string\n",
        "#Return: The RNA string (not complementary, just replace Thymine w/Uracil)\n",
        "\n",
        "#Sample Dataset\n",
        "DNA_seq = 'GATGGAACTTGACTACGTAAATT'\n",
        "\n",
        "def transcribe(DNA_seq):\n",
        "  return DNA_seq.replace('T', 'U')\n",
        "\n",
        "transcribe(DNA_seq)"
      ],
      "metadata": {
        "colab": {
          "base_uri": "https://localhost:8080/",
          "height": 36
        },
        "id": "kes4D0wmHgou",
        "outputId": "4ff73a2b-bea2-48b6-89f4-0811da6dcaa7"
      },
      "execution_count": null,
      "outputs": [
        {
          "output_type": "execute_result",
          "data": {
            "text/plain": [
              "'GAUGGAACUUGACUACGUAAAUU'"
            ],
            "application/vnd.google.colaboratory.intrinsic+json": {
              "type": "string"
            }
          },
          "metadata": {},
          "execution_count": 23
        }
      ]
    },
    {
      "cell_type": "code",
      "source": [
        "##ID: REVC\n",
        "# Given: A DNA string\n",
        "# Return: The reverse complement\n",
        "\n",
        "#Sample Dataset\n",
        "DNA_seq = 'AAAACCCGGT'\n",
        "\n",
        "# def reverse_complement(DNA_seq):\n",
        "#   DNA_seq = DNA_seq.replace('A', 't')\n",
        "#   DNA_seq = DNA_seq.replace('T', 'a')\n",
        "#   DNA_seq = DNA_seq.replace('C', 'g')\n",
        "#   DNA_seq = DNA_seq.replace('G', 'c')\n",
        "#   return DNA_seq(reverse_complement)\n",
        "\n",
        "cDNA_lib = {'A':'T', 'T':'A', 'C':'G', 'G':'C'}\n",
        "for b in DNA_seq [0:len(DNA_seq)]:\n",
        "  seq_complement = cDNA_lib[b]\n",
        "from os import replace\n",
        "\n",
        "##ID: Transcription\n",
        "# Given: A DNA string\n",
        "# Return: The reverse complement\n",
        "\n",
        "#Sample Dataset\n",
        "DNA_seq = 'AAAACCCGGT'\n",
        "\n",
        "# This works because there is not redundancy (as there would be if cDNA was capitalized) but isn't ideal\n",
        "# def reverse_complement(DNA_seq):\n",
        "#   DNA_seq = DNA_seq.replace('A', 't')\n",
        "#   DNA_seq = DNA_seq.replace('T', 'a')\n",
        "#   DNA_seq = DNA_seq.replace('C', 'g')\n",
        "#   DNA_seq = DNA_seq.replace('G', 'c')\n",
        "#   return DNA_seq(reverse_complement)\n",
        "\n",
        "cDNA_lib = {'A':'T', 'T':'A', 'C':'G', 'G':'C'}\n",
        "seq_complement = \"\" #create an empty string\n",
        "for base in DNA_seq:\n",
        "  seq_complement += cDNA_lib[base] #append each base to empty string\n",
        "print(seq_complement[::-1])\n"
      ],
      "metadata": {
        "colab": {
          "base_uri": "https://localhost:8080/"
        },
        "id": "GTJ2gC9eV6r6",
        "outputId": "c4eb4667-4f29-4b5f-bb71-4df2c7c9c54b"
      },
      "execution_count": null,
      "outputs": [
        {
          "output_type": "stream",
          "name": "stdout",
          "text": [
            "ACCGGGTTTT\n"
          ]
        }
      ]
    },
    {
      "cell_type": "code",
      "source": [
        "##ID: REVC\n",
        "##Given the complementary output, provide the DNA seq Imput\n",
        "Output = 'ACCGGGTTTT'\n",
        "\n",
        "DNA_seq_lib = {'A':'T', 'T':'A', 'C':'G', 'G':'C'}\n",
        "DNA_imput = \"\"\n",
        "for b in Output:\n",
        "  DNA_imput += DNA_seq_lib[b]\n",
        "print(DNA_imput[::-1])"
      ],
      "metadata": {
        "colab": {
          "base_uri": "https://localhost:8080/"
        },
        "id": "oUrLEnchqf-x",
        "outputId": "3ce8f0c5-9b7c-41ec-a7ae-5e5b77ff0d0c"
      },
      "execution_count": null,
      "outputs": [
        {
          "output_type": "stream",
          "name": "stdout",
          "text": [
            "AAAACCCGGT\n"
          ]
        }
      ]
    },
    {
      "cell_type": "code",
      "source": [
        "##ID: GC\n",
        "\n",
        "#A commonly used method of string labeling for DNA > FASTA format. In this format, the string is introduced by a line that begins with '>',\n",
        "# followed by labeling info. Subsequent lines contain the string itself; the first line to begin with '>' indicates the label of the next string.\n",
        "\n",
        "#In Rosalind's implementation, a string in FASTA format will be labeled by the ID \"Rosalind_xxxx\", where \"xxxx\" denotes a four-digit code between 0000 and 9999.\n",
        "#Given: At most 10 DNA strings in FASTA format (of length at most 1 kbp each).\n",
        "#Return: The ID of the string having the highest GC-content, followed by the GC-content of that string.\n",
        "#Rosalind allows for a default error of 0.001 in all decimal answers unless otherwise stated; please see the note on absolute error below."
      ],
      "metadata": {
        "id": "FkFLCgcgtYJR"
      },
      "execution_count": null,
      "outputs": []
    },
    {
      "cell_type": "code",
      "source": [
        "import pandas as pd\n",
        "\n",
        "# Sample dataset as a multi-line string\n",
        "data = \"\"\">Rosalind_6404\n",
        "CCTGCGGAAGATCGGCACTAGAATAGCCAGAACCGTTTCTCTGAGGCTTCCGGCCTTCCC\n",
        "TCCCACTAATAATTCTGAGG\n",
        ">Rosalind_5959\n",
        "CCATCGGTAGCGCATCCTTAGTCCAATTAAGTCCCTATCCAGGCGCTCCGCCGAAGGTCT\n",
        "ATATCCATTTGTCAGCAGACACGC\n",
        ">Rosalind_0808\n",
        "CCACCCTCGTGGTATGGCTAGGCATTCAGGAACCGGAGAACGCTTCAGACCAGCCCGGAC\n",
        "TGGGAACCTGCGGGCAGTAGGTGGAAT\"\"\"\n",
        "\n",
        "# Splitting data into lines\n",
        "lines = data.split(\"\\n\")\n",
        "\n",
        "# Dictionary to store sequence data; keys are the ID sequences are the value\n",
        "sequences = {}\n",
        "\n",
        "# Parse the data\n",
        "for line in lines:\n",
        "    if line.startswith(\">\"):\n",
        "        current_label = line[1:]  # Remove \">\" to get the identifier\n",
        "        sequences[current_label] = \"\"  # Initialize an empty string for the sequence\n",
        "    else:\n",
        "        sequences[current_label] += line.strip()  # Append sequence\n",
        "\n",
        "# Convert to a DataFrame\n",
        "seq_df = pd.DataFrame(sequences.items(), columns=[\"ID\", \"Sequence\"])\n",
        "\n",
        "# Display DataFrame\n",
        "print(seq_df)\n",
        "\n",
        "#Return: The ID of the string having the highest GC-content, followed by the GC-content of that string.\n",
        "\n",
        "# Function to calculate GC content\n",
        "def GC_content(sequence):\n",
        "    GC_count = sequence.count('G') + sequence.count('C')\n",
        "    return (GC_count / len(sequence)) * 100\n",
        "\n",
        "# Add column with GC content:\n",
        "seq_df[\"GC_Content\"] = seq_df[\"Sequence\"].apply(GC_content)\n",
        "print(seq_df)\n",
        "\n",
        "# Print ID with max GC content\n",
        "# .idxmax() function finds the index of the maximum value in the \"GC_Content\" column.\n",
        "max_GC_ID = seq_df.loc[seq_df[\"GC_Content\"].idxmax()]\n",
        "print(\"Highest GC Content:\", max_GC_ID)"
      ],
      "metadata": {
        "id": "BXOeNmRJ3wqM",
        "colab": {
          "base_uri": "https://localhost:8080/"
        },
        "outputId": "8f30c162-75de-4bbf-be9d-b4a710d20aef"
      },
      "execution_count": null,
      "outputs": [
        {
          "output_type": "stream",
          "name": "stdout",
          "text": [
            "              ID                                           Sequence\n",
            "0  Rosalind_6404  CCTGCGGAAGATCGGCACTAGAATAGCCAGAACCGTTTCTCTGAGG...\n",
            "1  Rosalind_5959  CCATCGGTAGCGCATCCTTAGTCCAATTAAGTCCCTATCCAGGCGC...\n",
            "2  Rosalind_0808  CCACCCTCGTGGTATGGCTAGGCATTCAGGAACCGGAGAACGCTTC...\n",
            "              ID                                           Sequence  \\\n",
            "0  Rosalind_6404  CCTGCGGAAGATCGGCACTAGAATAGCCAGAACCGTTTCTCTGAGG...   \n",
            "1  Rosalind_5959  CCATCGGTAGCGCATCCTTAGTCCAATTAAGTCCCTATCCAGGCGC...   \n",
            "2  Rosalind_0808  CCACCCTCGTGGTATGGCTAGGCATTCAGGAACCGGAGAACGCTTC...   \n",
            "\n",
            "   GC_Content  \n",
            "0   53.750000  \n",
            "1   53.571429  \n",
            "2   60.919540  \n",
            "Highest GC Content: ID                                                Rosalind_0808\n",
            "Sequence      CCACCCTCGTGGTATGGCTAGGCATTCAGGAACCGGAGAACGCTTC...\n",
            "GC_Content                                             60.91954\n",
            "Name: 2, dtype: object\n"
          ]
        }
      ]
    },
    {
      "cell_type": "code",
      "source": [
        "##ID: HAMM\n",
        "\n",
        "# The Hamming distance between these two strings is 7. Mismatched symbols are colored red.\n",
        "### Hamming distance = the number of positions where two strings differ.\n",
        "\n",
        "# Given two strings s and t of equal length, the Hamming distance between s and t, denoted dH(s,t),\n",
        "# is the number of corresponding symbols that differ in s and t.\n",
        "\n",
        "## PROBLEM: Given: Two DNA strings s and t of equal length (not exceeding 1 kbp).\n",
        "## Return: The Hamming distance dH(s,t)\n",
        "\n",
        "#Sample Dataset\n",
        "\n",
        "s = 'GAGCCTACTAACGGGAT'\n",
        "t = 'CATCGTAATGACGGCCT'\n",
        "\n",
        "# Variable to store mismatches:\n",
        "mismatched_bases = 0\n",
        "\n",
        "# Iterate through each sequence - At each position i, it grabs the nucleotide (nuc_s) from s, and the corresponding one (nuc_t) from t.\n",
        "for i in range(len(s)):\n",
        "    nuc_s = s[i]\n",
        "    nuc_t = t[i]\n",
        "\n",
        "    if nuc_s != nuc_t:  # Compare\n",
        "        mismatched_bases += 1  # Increase mismatch count if different\n",
        "#So every != becomes a little \"Hamming ping!\"\n",
        "print(\"Total mismatches:\", mismatched_bases)\n"
      ],
      "metadata": {
        "colab": {
          "base_uri": "https://localhost:8080/"
        },
        "id": "S8gNZJBTDLUk",
        "outputId": "91960560-7b59-4cf8-a904-1b0def1560d2"
      },
      "execution_count": null,
      "outputs": [
        {
          "output_type": "stream",
          "name": "stdout",
          "text": [
            "Total mismatches: 7\n"
          ]
        }
      ]
    },
    {
      "cell_type": "code",
      "source": [
        "\n",
        "##ID: PROT\n",
        "\n",
        "#Problem: The 20 commonly occurring amino acids are abbreviated by using 20 letters (all letters except for B, J, O, U, X, and Z).\n",
        "#Protein strings are constructed from these 20 symbols. Henceforth, the term genetic string will incorporate protein strings along with DNA strings and RNA strings.\n",
        "\n",
        "#The RNA codon table dictates the details regarding the encoding of specific codons into the amino acid alphabet.\n",
        "\n",
        "##Given: An RNA string s corresponding to a strand of mRNA (of length at most 10 kbp).\n",
        "##Return: The protein string encoded by s\n",
        "\n",
        "#Sample Dataset\n",
        "RNA = 'AUGGCCAUGGCGCCCAGAACUGAGAUCAAUAGUACCCGUAUUAACGGGUGA'\n",
        "\n",
        "#Create Dictionary\n",
        "aa = {}\n",
        "\n",
        "codon_table = \"\"\"\n",
        "UUU F    CUU L    AUU I    GUU V\n",
        "UUC F    CUC L    AUC I    GUC V\n",
        "UUA L    CUA L    AUA I    GUA V\n",
        "UUG L    CUG L    AUG M    GUG V\n",
        "UCU S    CCU P    ACU T    GCU A\n",
        "UCC S    CCC P    ACC T    GCC A\n",
        "UCA S    CCA P    ACA T    GCA A\n",
        "UCG S    CCG P    ACG T    GCG A\n",
        "UAU Y    CAU H    AAU N    GAU D\n",
        "UAC Y    CAC H    AAC N    GAC D\n",
        "UAA Stop CAA Q    AAA K    GAA E\n",
        "UAG Stop CAG Q    AAG K    GAG E\n",
        "UGU C    CGU R    AGU S    GGU G\n",
        "UGC C    CGC R    AGC S    GGC G\n",
        "UGA Stop CGA R    AGA R    GGA G\n",
        "UGG W    CGG R    AGG R    GGG G\n",
        "\"\"\"\n",
        "\n",
        "# Process the raw codon table\n",
        "for line in codon_table.strip().split(\"\\n\"):  # Split into lines\n",
        "    Codon_AA = line.split()  # Split each line into parts (codon, amino acid)\n",
        "    for i in range(0, len(Codon_AA), 2):  # Process in pairs (codon, amino acid)\n",
        "        codon = Codon_AA[i]\n",
        "        amino_acid = Codon_AA[i+1]\n",
        "        aa[codon] = amino_acid  # Add to dictionary\n",
        "\n",
        "translated_RNA = \"\"\n",
        "for i in range(0, len(RNA), 3):\n",
        "    codon = RNA[i:i+3]\n",
        "    #print(codon)\n",
        "    if aa[codon] == \"Stop\":\n",
        "        break\n",
        "    translated_RNA += aa[codon] #appending the amino acid corresponding to each codon to a string called translated_RNA\n",
        "\n",
        "print(translated_RNA)"
      ],
      "metadata": {
        "colab": {
          "base_uri": "https://localhost:8080/"
        },
        "id": "t5tEFVT4JF0O",
        "outputId": "15bdba93-24f6-4fdb-c141-9ce85f601e21"
      },
      "execution_count": null,
      "outputs": [
        {
          "output_type": "stream",
          "name": "stdout",
          "text": [
            "MAMAPRTEINSTRING\n"
          ]
        }
      ]
    },
    {
      "cell_type": "code",
      "source": [
        "###ID: SUBS\n",
        "###Finding a Motif in DNA\n",
        "#Problem: Given two strings s and t, t is a substring of s if t is contained as a contiguous collection of symbols in s (as a result, t must be no longer than s).\n",
        "#Given: Two DNA strings s and t (each of length at most 1 kbp).\n",
        "# Return: All locations of t as a substring of s.\n",
        "\n",
        "### Sample Dataset\n",
        "# GATATATGCATATACTT\n",
        "# ATAT\n",
        "\n",
        "## PROCESS:\n",
        "#1 Identify where the motif \"ATAT\" appears in the string, starting with the first position, by iterating through s, checking if the substring starting at each position matches 𝑡:\n",
        "### for loop: determine how many starting positions of the substring exist in s\n",
        "#2 Store 1-based positions of matches\n",
        "#3 Check if substring matches t\n",
        "#4 Convert 0-based to 1-based index\n",
        "s = 'GATATATGCATATACTT'\n",
        "t = 'ATAT'\n",
        "\n",
        "# for i in range(len(s) - len(t) + 1):  # Iterate through possible start positions within s\n",
        "#     if s[i:i+len(t)] == t:  # extracts a substring from s, starting at index i and ending at i + len(t), and checks if it equals \"ATAT\"\n",
        "#         print(i + 1)  # Convert to 1-based index\n",
        "\n",
        "def ATAT_motif_locations(s, t):\n",
        "    positions = []  # Store 1-based positions of matches\n",
        "    for i in range(len(s) - len(t) + 1):  # Iterate through s\n",
        "        if s[i:i+len(t)] == t:  # Check if substring matches t\n",
        "            positions.append(i + 1)  # Convert 0-based to 1-based index\n",
        "    return positions #return the positions list\n",
        "\n",
        "# Call the function to get the positions and then print them\n",
        "positions = ATAT_motif_locations(s, t)\n",
        "print(positions)"
      ],
      "metadata": {
        "id": "5KWcZEmMLcBC",
        "colab": {
          "base_uri": "https://localhost:8080/"
        },
        "outputId": "82c5bce3-6cbd-476c-da90-e339046807c4"
      },
      "execution_count": null,
      "outputs": [
        {
          "output_type": "stream",
          "name": "stdout",
          "text": [
            "[2, 4, 10]\n"
          ]
        }
      ]
    },
    {
      "cell_type": "code",
      "source": [
        "###ID: PRTM\n",
        "##Problem: In a weighted alphabet, every symbol is assigned a positive real number called a weight. A string formed from a weighted alphabet is called a weighted string,\n",
        "#and its weight is equal to the sum of the weights of its symbols. The standard weight assigned to each member of the 20-symbol amino acid alphabet is the monoisotopic mass of the corresponding amino acid.\n",
        "\n",
        "#Given: A protein string P of length at most 1000 aa.\n",
        "#Return: The total weight of P (Consult the monoisotopic mass table)\n",
        "\n",
        "### Approach:\n",
        "#1 make a dictionary to store amino acid:specific monoisotopic mass\n",
        "#2 Iterate Through the Protein Stringand retireve the mass from dictionary\n",
        "#3 Sum up all the retrieved values\n",
        "\n",
        "###Sample Dataset\n",
        "p = 'SKADYEK'\n",
        "\n",
        "monoisotopic_mass_table = {\n",
        "    'A': 71.03711, 'C': 103.00919, 'D': 115.02694, 'E': 129.04259,\n",
        "    'F': 147.06841, 'G': 57.02146, 'H': 137.05891, 'I': 113.08406,\n",
        "    'K': 128.09496, 'L': 113.08406, 'M': 131.04049, 'N': 114.04293,\n",
        "    'P': 97.05276, 'Q': 128.05858, 'R': 156.10111, 'S': 87.03203,\n",
        "    'T': 101.04768, 'V': 99.06841, 'W': 186.07931, 'Y': 163.06333\n",
        "}\n",
        "\n",
        "total_mass = 0\n",
        "\n",
        "for aa in p:\n",
        "  mass = monoisotopic_mass_table[aa]\n",
        "  total_mass += mass\n",
        "print(total_mass)"
      ],
      "metadata": {
        "colab": {
          "base_uri": "https://localhost:8080/"
        },
        "id": "Lz0RQxH8trXm",
        "outputId": "80ed410d-8989-489a-fa89-19f05e3d0cc5"
      },
      "execution_count": null,
      "outputs": [
        {
          "output_type": "stream",
          "name": "stdout",
          "text": [
            "821.3919199999999\n"
          ]
        }
      ]
    },
    {
      "cell_type": "code",
      "source": [
        "###ID: SPLC (RNA Splicing)\n",
        "#Problem:After identifying the exons and introns of an RNA string, we only need to delete the introns and concatenate the exons to form a new string ready for translation.\n",
        "## Given: A DNA string s (of length at most 1 kbp) and a collection of substrings of sacting as introns. All strings are given in FASTA format.\n",
        "## Return: A protein string resulting from transcribing and translating the exons of s (Note: Only one solution will exist for the dataset provided.)\n",
        "\n",
        "#Sample Dataset\n",
        "# >Rosalind_10\n",
        "# ATGGTCTACATAGCTGACAAACAGCACGTAGCAATCGGTCGAATCTCGAGAGGCATATGGTCACATGATCGGTCGAGCGTGTTTCAAAGTTTGCGCCTAG\n",
        "# >Rosalind_12\n",
        "# ATCGGTCGAA\n",
        "# >Rosalind_15\n",
        "# ATCGGTCGAGCGTGT\n",
        "\n",
        "##1 - Parse the FASTA file so that each FASTA seq can be accessed by its ID\n",
        "fasta_dict = {\n",
        "    \"Rosalind_10\": \"ATGGTCTACATAGCTGACAAACAGCACGTAGCAATCGGTCGAATCTCGAGAGGCATATGGTCACATGATCGGTCGAGCGTGTTTCAAAGTTTGCGCCTAG\",\n",
        "    \"Rosalind_12\": \"ATCGGTCGAA\",\n",
        "    \"Rosalind_15\": \"ATCGGTCGAGCGTGT\"\n",
        "}\n",
        "#print(fasta_dict)\n",
        "\n",
        "##2 distinguish between DNA and introns\n",
        "main_seq = list(fasta_dict.values())[0]  # Rosalind_10 is the first entry\n",
        "introns = list(fasta_dict.values())[1:]  # everything else\n",
        "\n",
        "##3 Remove introns\n",
        "for seq in introns:\n",
        "    main_seq = main_seq.replace(seq, \"\")  #replace every intron seq in main seq with 0 characters (\"splice\")\n",
        "\n",
        "#print(\"Spliced sequence:\", main_seq)\n",
        "\n",
        "##4) turn this into a protein sequence - will need a dictionary\n",
        "\n",
        "codon_AA = {\n",
        "    'TTT': 'F', 'TTC': 'F', 'TTA': 'L', 'TTG': 'L',\n",
        "    'CTT': 'L', 'CTC': 'L', 'CTA': 'L', 'CTG': 'L',\n",
        "    'ATT': 'I', 'ATC': 'I', 'ATA': 'I', 'ATG': 'M',\n",
        "    'GTT': 'V', 'GTC': 'V', 'GTA': 'V', 'GTG': 'V',\n",
        "    'TCT': 'S', 'TCC': 'S', 'TCA': 'S', 'TCG': 'S',\n",
        "    'CCT': 'P', 'CCC': 'P', 'CCA': 'P', 'CCG': 'P',\n",
        "    'ACT': 'T', 'ACC': 'T', 'ACA': 'T', 'ACG': 'T',\n",
        "    'GCT': 'A', 'GCC': 'A', 'GCA': 'A', 'GCG': 'A',\n",
        "    'TAT': 'Y', 'TAC': 'Y', 'TAA': '',  'TAG': '',\n",
        "    'CAT': 'H', 'CAC': 'H', 'CAA': 'Q', 'CAG': 'Q',\n",
        "    'AAT': 'N', 'AAC': 'N', 'AAA': 'K', 'AAG': 'K',\n",
        "    'GAT': 'D', 'GAC': 'D', 'GAA': 'E', 'GAG': 'E',\n",
        "    'TGT': 'C', 'TGC': 'C', 'TGA': '',  'TGG': 'W',\n",
        "    'CGT': 'R', 'CGC': 'R', 'CGA': 'R', 'CGG': 'R',\n",
        "    'AGT': 'S', 'AGC': 'S', 'AGA': 'R', 'AGG': 'R',\n",
        "    'GGT': 'G', 'GGC': 'G', 'GGA': 'G', 'GGG': 'G'\n",
        "  }\n",
        "\n",
        "##5 parse through the spliced sequence by 3s...\n",
        "# Find first occurrence of start codon (ATG)\n",
        "start_index = main_seq.find(\"ATG\")\n",
        "\n",
        "# If found, slice the sequence starting from there\n",
        "if start_index != -1: #any postive integer will refer to the index start site of ATG, but a -1 means no ATG detected\n",
        "    coding_seq = main_seq[start_index:] # this starts the new string at the start codon and goes to the end of the string\n",
        "else:\n",
        "    coding_seq = \"No start codon found\"\n",
        "## create an empty string for the protein code:\n",
        "protein = \"\"\n",
        "\n",
        "## Iterate by 3's\n",
        "for i in range(0, len(coding_seq), 3):#start at index 0 (i.e. ATG); go through entire string; 3 characters/iteration\n",
        "  codon = coding_seq[i:i+3]  #creating a 'string' for each codon by grabbing 3 characters at a time—starting at position i (stored in memory for next function/use)\n",
        "  aa = codon_AA.get(codon, '')\n",
        "  if aa == \" \": #indicates stop codon (TAA, e.g.)\n",
        "        break\n",
        "  if len(codon) < 3:\n",
        "        break  # Skip incomplete codons\n",
        "  protein += aa #append  new amino acid to the protein string\n",
        "print(protein)"
      ],
      "metadata": {
        "id": "HVRnlYvMYXfK",
        "colab": {
          "base_uri": "https://localhost:8080/"
        },
        "outputId": "8de5f48a-f02a-402f-aa9a-e228598d060b"
      },
      "execution_count": null,
      "outputs": [
        {
          "output_type": "stream",
          "name": "stdout",
          "text": [
            "MVYIADKQHVASREAYGHMFKVCA\n"
          ]
        }
      ]
    },
    {
      "cell_type": "markdown",
      "source": [
        "**Figure 2. Palindromic Recognition Site**\n",
        "\n",
        "![alt text](https://rosalind.info/media/problems/revp/palindrome.png)"
      ],
      "metadata": {
        "id": "ZesWq-rj9yDa"
      }
    },
    {
      "cell_type": "code",
      "source": [
        "##ID: REVP\n",
        "# Problem\n",
        "# A DNA string is a reverse palindrome if it is equal to its reverse complement.\n",
        "# For instance, GCATGC is a reverse palindrome because its reverse complement is GCATGC. See Figure 2.\n",
        "\n",
        "# Given: A DNA string of length at most 1 kbp in FASTA format.\n",
        "# Return: The position and length of every reverse palindrome in the string having length between 4 and 12. You may return these pairs in any order.\n",
        "\n",
        "Sample_Dataset = \\\n",
        "\">Rosalind_24\\n\\\n",
        "TCAATGCATGCGGGTCTATATGCAT\"\n",
        "\n",
        "# #1 Exract the sequence:\n",
        "# fasta_dict = {\n",
        "#     \"Rosalind_24\": \"TCAATGCATGCGGGTCTATATGCAT\"\n",
        "# }\n",
        "\n",
        "fasta_dict = {}\n",
        "#can also do it without knowing:\n",
        "for line in Sample_Dataset.split('\\n'):\n",
        "      line = line.strip()\n",
        "      if line.startswith(\">\"):\n",
        "        current_id = line[1:]  # slice from the 2nd character/index 1\n",
        "        fasta_dict[current_id] = \"\"  # initialize new string in dictionary with key 'current_ID' and value = empty string\n",
        "      else: #anything but the header - in this case it's the sequence\n",
        "        fasta_dict[current_id] += line  # add/append sequence data to its ID\n",
        "print(fasta_dict)\n",
        "\n",
        "#2) Grab the sequence\n",
        "seq = list(fasta_dict.values())[0]\n",
        "\n",
        "#Incase you wanted to reference the ID:\n",
        "list(fasta_dict.keys())[0]\n",
        "\n",
        "#3) For every substring of length 4 to 12, check if it’s equal to its reverse complement.\n",
        "    ### Loop through all substrings 4-12 characters\n",
        "    ### if substring == reverse_complement; then it's a reverse palindrome, print:\n",
        "    # starting position and length\n",
        "\n",
        "def rev_comp(seq):\n",
        "    comp = {\"A\": \"T\", \"T\": \"A\", \"C\": \"G\", \"G\": \"C\"}\n",
        "    rev_seq = seq[::-1]  #reversed string\n",
        "    result = \"\" #initialize empty string\n",
        "    for base in rev_seq:\n",
        "        result += comp[base]\n",
        "    return result\n",
        "print(rev_comp(seq))\n",
        "\n",
        "#A more efficienct way:  return ''.join(comp[base] for base in seq[::-1]); doesn't rewrite the string each time\n",
        "\n",
        "for i in range(len(seq)):\n",
        "    for length in range(4, 13):  # Lengths 4 to 12 inclusive (sliding window-like)\n",
        "        if i + length > len(seq):\n",
        "            continue  # Skip if it goes past the end\n",
        "\n",
        "        substring = seq[i:i+length] #indexing each new substring as it progresses through the seq\n",
        "        rev_comp_substring = rev_comp(substring) # call function and store return value to new variable\n",
        "\n",
        "        if substring == rev_comp_substring:  # compare original and reverse to check for palindromes\n",
        "          print(i + 1, length)  # 1-based indexing"
      ],
      "metadata": {
        "id": "7IyGIBerF4Sp",
        "colab": {
          "base_uri": "https://localhost:8080/"
        },
        "outputId": "06873ee6-faec-4141-e1d8-e569cf5fbfd4"
      },
      "execution_count": null,
      "outputs": [
        {
          "output_type": "stream",
          "name": "stdout",
          "text": [
            "{'Rosalind_24': 'TCAATGCATGCGGGTCTATATGCAT'}\n",
            "ATGCATATAGACCCGCATGCATTGA\n",
            "4 6\n",
            "5 4\n",
            "6 6\n",
            "7 4\n",
            "17 4\n",
            "18 4\n",
            "20 6\n",
            "21 4\n"
          ]
        }
      ]
    },
    {
      "cell_type": "code",
      "source": [
        "##ID: TRAN\n",
        "# Problem: For DNA strings s1 and s2 having the same length, their transition/transversion ratio R(s1,s2) is the ratio of the total number of transitions to the total number of transversions\n",
        "# where symbol substitutions are inferred from mismatched corresponding symbols as when calculating Hamming distance (see “Counting Point Mutations”)\n",
        "## Given: Two DNA strings s1 and s2 of equal length (at most 1 kbp).\n",
        "## Return: The transition/transversion ratio R(s1,s2)\n",
        "\n",
        "Sample_Dataset_T = \\\n",
        "\">Rosalind_0209\\n\\\n",
        "GCAACGCACAACGAAAACCCTTAGGGACTGGATTATTTCGTGATCGTTGTAGTTATTGGA\\n\\\n",
        "AGTACGGGCATCAACCCAGTT\\n\\\n",
        ">Rosalind_2200\\n\\\n",
        "TTATCTGACAAAGAAAGCCGTCAACGGCTGGATAATTTCGCGATCGTGCTGGTTACTGGC\\n\\\n",
        "GGTACGAGTGTTCCTTTGGGT\"\n",
        "\n",
        "#1) As always make FASTA sequences into a dictionary\n",
        "fasta_dict_T = {}\n",
        "for line in Sample_Dataset_T.split('\\n'):\n",
        "      line = line.strip()\n",
        "      if line.startswith(\">\"):\n",
        "        current_id = line[1:]  # slice from the 2nd character/index 1\n",
        "        fasta_dict_T[current_id] = \"\"  # initialize new string in dictionary with key 'current_ID' and value = empty string\n",
        "      else: #anything but the header - in this case it's the sequence\n",
        "        fasta_dict_T[current_id] += line  # add/append sequence data to its ID\n",
        "print(fasta_dict_T)\n",
        "\n",
        "#2) Assigning variables from problem\n",
        "s1 = fasta_dict_T[\"Rosalind_0209\"]\n",
        "s2 = fasta_dict_T[\"Rosalind_2200\"]\n",
        "\n",
        "#3) Create a function for identifying transversions and transitions\n",
        "### Transitions: purine-to-purine (A ↔ G) or pyrimidine-to-pyrimidine (C ↔ T) substitutions\n",
        "### Transversions: purine-to-pyrimidine or vice versa (A/G ↔ C/T).\n",
        "\n",
        "transition_pairs = [('A', 'G'), ('G', 'A'), ('C', 'T'), ('T', 'C')]\n",
        "\n",
        "# Step 2: Set counters to zero\n",
        "# transitions = 0\n",
        "# transversions = 0\n",
        "\n",
        "#3 Loop through both sequences at once\n",
        "# for i in range(len(s1)):\n",
        "#     base1 = s1[i]\n",
        "#     base2 = s2[i]\n",
        "\n",
        "#     if base1 != base2:\n",
        "#         if (base1, base2) in transition_pairs:\n",
        "#             transitions += 1\n",
        "#         else:\n",
        "#             transversions += 1\n",
        "\n",
        "#5) Create a function\n",
        "\n",
        "def calculate_transition_transversion_ratio(s1, s2):\n",
        "    transition_pairs = [('A', 'G'), ('G', 'A'), ('C', 'T'), ('T', 'C')]\n",
        "    transitions = 0\n",
        "    transversions = 0\n",
        "\n",
        "    for i in range(len(s1)):\n",
        "        base1 = s1[i]\n",
        "        base2 = s2[i]\n",
        "\n",
        "        if base1 != base2:\n",
        "            if (base1, base2) in transition_pairs:\n",
        "                transitions += 1\n",
        "            else:\n",
        "                transversions += 1\n",
        "\n",
        "    if transversions == 0: # You'll get a division by zero\n",
        "        return float('inf')  # Instead of crashing, return \"infinity\"\n",
        "    return transitions / transversions, transitions, transversions\n",
        "\n",
        "#If you want to see # of transitions and transverssions alone,\n",
        "#you have to Assign the returned values to variables outside the function (Call the function with the desired variables)\n",
        "ratio, transitions, transversions = calculate_transition_transversion_ratio(s1, s2)\n",
        "\n",
        "print(\"Ratio\", ratio)\n",
        "print(\"Transversions:\", transversions)\n",
        "print(\"Transitions:\", transitions)\n"
      ],
      "metadata": {
        "id": "NukO6Oi7F-L7",
        "colab": {
          "base_uri": "https://localhost:8080/"
        },
        "outputId": "a899d625-35b9-4856-ee8d-f90820dc7fad"
      },
      "execution_count": null,
      "outputs": [
        {
          "output_type": "stream",
          "name": "stdout",
          "text": [
            "{'Rosalind_0209': 'GCAACGCACAACGAAAACCCTTAGGGACTGGATTATTTCGTGATCGTTGTAGTTATTGGAAGTACGGGCATCAACCCAGTT', 'Rosalind_2200': 'TTATCTGACAAAGAAAGCCGTCAACGGCTGGATAATTTCGCGATCGTGCTGGTTACTGGCGGTACGAGTGTTCCTTTGGGT'}\n",
            "Ratio 1.2142857142857142\n",
            "Transversions: 14\n",
            "Transitions: 17\n"
          ]
        }
      ]
    },
    {
      "cell_type": "code",
      "source": [
        "##ID: LCSM\n",
        "# Problem\n",
        "# A common substring of a collection of strings is a substring of every member of the collection.\n",
        "# We say that a common substring is a longest common substring if there does not exist a longer common substring.\n",
        "# For example, \"CG\" is a common substring of \"ACGTACGT\" and \"AACCGTATA\", but it is not as long as possible; in this case, \"CGTA\" is a longest common substring of \"ACGTACGT\" and \"AACCGTATA\".\n",
        "# Note that the longest common substring is not necessarily unique; for a simple example, \"AA\" and \"CC\" are both longest common substrings of \"AACC\" and \"CCAA\".\n",
        "\n",
        "##Given: A collection of k(k≤100) DNA strings of length at most 1 kbp each in FASTA format.\n",
        "##Return: A longest common substring of the collection. (If multiple solutions exist, you may return any single solution.)\n",
        "\n",
        "Sample_Dataset_LCSM = \"\"\"\n",
        ">Rosalind_1\n",
        "GATTACA\n",
        ">Rosalind_2\n",
        "TAGACCA\n",
        ">Rosalind_3\n",
        "ATACA\n",
        "\"\"\"\n",
        "\n",
        "#Logic... start with one string and generate all the substrings of that string\n",
        "#The substrings should be 1 base - length of the string\n",
        "#### Example - rosalind_3:\n",
        "# Len 5: \"ATACA\"\n",
        "# Len 4: \"ATAC\", \"TACA\"\n",
        "# Len 3: \"ATA\", \"TAC\", \"ACA\"\n",
        "# Len 2: \"AT\", \"TA\", \"AC\", \"CA\"\n",
        "# Len 1: \"A\", \"T\", \"C\"\n",
        "\n",
        "#1) as always set up the FASTA data structure\n",
        "fasta_dict_LCSM = {}\n",
        "current_id = None\n",
        "\n",
        "for line in Sample_Dataset_LCSM.strip().split('\\n'): #.strip() moves everything ito one line (but keeps \\n); .split('\\n') splits string into a list every newline\n",
        "      line = line.strip()\n",
        "      if line.startswith(\">\"):\n",
        "        current_id = line[1:]  # slice from the 2nd character/index 1\n",
        "        fasta_dict_LCSM[current_id] = \"\"  # initialize new string in dictionary with key 'current_ID' and value = empty string\n",
        "      else: #anything but the header - in this case it's the sequence\n",
        "        fasta_dict_LCSM[current_id] +=line\n",
        "\n",
        "#print (fasta_dict_LCSM)\n",
        "#looking at just the sequences:\n",
        "\n",
        "sequences = list(fasta_dict_LCSM.values())\n",
        "#print(sequences)\n",
        "shortest_seq = min(sequences, key=len) #min(...) finds the smallest thing in the list\n",
        "#print(shortest_seq)\n",
        "\n",
        "#Logic... end goal is to find the longest identical substring across all sequences\n",
        "\n",
        "def ID_longest_substring(sequences):\n",
        "  shortest_seq = min(sequences, key=len)\n",
        "  longest_substring = \"\"\n",
        "  # Step 1: make a list of all possible substrings\n",
        "  substrings = []\n",
        "  for i in range(len(shortest_seq)):\n",
        "    for e in range(i + 1, len(shortest_seq) + 1): #e is the exlusive position at end of the sequence; include last base by +1\n",
        "      substrings.append(shortest_seq[i:e])\n",
        "#print(substrings)\n",
        "#3) now we want to see if any of the substrings are in the other sequences, and then find the longest one\n",
        "  longest_substring = \"\"\n",
        "  for substring in substrings:\n",
        "    is_present = True\n",
        "    for seq in sequences:\n",
        "        if substring not in seq:\n",
        "          is_present = False\n",
        "          break  # stop checking if even one sequence doesn't have it\n",
        "\n",
        "    if is_present and len(substring) > len(longest_substring):\n",
        "            longest_substring = substring\n",
        "  return longest_substring\n",
        "\n",
        "print(ID_longest_substring(sequences))\n",
        "\n",
        "# since there are multiple longest common substrings of the same length — and you want to return all of them, not just the first.\n",
        "\n",
        "def ID_all_longest_common_substrings(sequences):\n",
        "    shortest_seq = min(sequences, key=len)\n",
        "    substrings = []\n",
        "\n",
        "    for i in range(len(shortest_seq)):\n",
        "        for e in range(i + 1, len(shortest_seq) + 1):\n",
        "            substrings.append(shortest_seq[i:e])\n",
        "\n",
        "    longest_substrings = [] #this is a list instead of a string\n",
        "    max_len = 0             # track the longest substring (length) to use a reference for keeping or discarding future substrings\n",
        "\n",
        "    for substring in substrings:\n",
        "        is_present = True\n",
        "        for seq in sequences:\n",
        "            if substring not in seq:\n",
        "                is_present = False\n",
        "                break\n",
        "\n",
        "        if is_present:\n",
        "            if len(substring) > max_len:\n",
        "                # New longest found — reset the list\n",
        "                max_len = len(substring)\n",
        "                longest_substrings = [substring]\n",
        "            elif len(substring) == max_len:\n",
        "                # Same length as current longest — add to the list\n",
        "                longest_substrings.append(substring)\n",
        "\n",
        "    return longest_substrings\n",
        "print (ID_all_longest_common_substrings(sequences))\n"
      ],
      "metadata": {
        "id": "NILTXJccGCYs",
        "colab": {
          "base_uri": "https://localhost:8080/"
        },
        "outputId": "b34989fc-81d3-4304-c22e-2205a047488e"
      },
      "execution_count": null,
      "outputs": [
        {
          "output_type": "stream",
          "name": "stdout",
          "text": [
            "TA\n",
            "['TA', 'AC', 'CA']\n"
          ]
        }
      ]
    },
    {
      "cell_type": "code",
      "source": [
        "##ID: ORF"
      ],
      "metadata": {
        "id": "W83WYHDZGGh8"
      },
      "execution_count": null,
      "outputs": []
    }
  ]
}