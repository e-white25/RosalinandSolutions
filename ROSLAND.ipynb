{
  "nbformat": 4,
  "nbformat_minor": 0,
  "metadata": {
    "colab": {
      "provenance": [],
      "authorship_tag": "ABX9TyOiyLRWjEJi5n2XBD3g5ASI",
      "include_colab_link": true
    },
    "kernelspec": {
      "name": "python3",
      "display_name": "Python 3"
    },
    "language_info": {
      "name": "python"
    }
  },
  "cells": [
    {
      "cell_type": "markdown",
      "metadata": {
        "id": "view-in-github",
        "colab_type": "text"
      },
      "source": [
        "<a href=\"https://colab.research.google.com/github/e-white25/RosalinandSolutions/blob/main/ROSLAND.ipynb\" target=\"_parent\"><img src=\"https://colab.research.google.com/assets/colab-badge.svg\" alt=\"Open In Colab\"/></a>"
      ]
    },
    {
      "cell_type": "markdown",
      "source": [
        "# DNA/RNA"
      ],
      "metadata": {
        "id": "K7wYOZPyBJXA"
      }
    },
    {
      "cell_type": "code",
      "execution_count": 20,
      "metadata": {
        "colab": {
          "base_uri": "https://localhost:8080/"
        },
        "id": "IyNBwBjJA9ma",
        "outputId": "8cd7011e-d63c-4156-c469-0d24de13a208"
      },
      "outputs": [
        {
          "output_type": "execute_result",
          "data": {
            "text/plain": [
              "(17, 12, 20, 21)"
            ]
          },
          "metadata": {},
          "execution_count": 20
        }
      ],
      "source": [
        "#Return: Four integers (separated by spaces) counting the respective number of times that the symbols 'A', 'C', 'G', and 'T' occur in s\n",
        "\n",
        "# Sample Dataset\n",
        "seq1 = 'AGCTTTTCATTCTGACTGCAACGGGCAATATGTCTCTGTGTGGATTAAAAAAAGAGTGTCTGATAGCAGC'\n",
        "# Sample Output\n",
        "\n",
        "def nucleotides(seq1):\n",
        "  count_g = seq1.count('G')\n",
        "  count_c = seq1.count('C')\n",
        "  count_a= seq1.count('A')\n",
        "  count_t = seq1.count('T')\n",
        "  return count_g, count_c, count_a, count_t\n",
        "\n",
        "nucleotides(seq1)"
      ]
    },
    {
      "cell_type": "code",
      "source": [
        "#Given: A DNA string\n",
        "#Return: The RNA string (not complementary, just replace Thymine w/Uracil)\n",
        "\n",
        "#Sample Dataset\n",
        "DNA_seq = 'GATGGAACTTGACTACGTAAATT'\n",
        "\n",
        "def transcribe(DNA_seq):\n",
        "  return DNA_seq.replace('T', 'U')\n",
        "\n",
        "transcribe(DNA_seq)"
      ],
      "metadata": {
        "colab": {
          "base_uri": "https://localhost:8080/",
          "height": 36
        },
        "id": "kes4D0wmHgou",
        "outputId": "4ff73a2b-bea2-48b6-89f4-0811da6dcaa7"
      },
      "execution_count": 23,
      "outputs": [
        {
          "output_type": "execute_result",
          "data": {
            "text/plain": [
              "'GAUGGAACUUGACUACGUAAAUU'"
            ],
            "application/vnd.google.colaboratory.intrinsic+json": {
              "type": "string"
            }
          },
          "metadata": {},
          "execution_count": 23
        }
      ]
    }
  ]
}