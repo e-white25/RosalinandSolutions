{
  "nbformat": 4,
  "nbformat_minor": 0,
  "metadata": {
    "colab": {
      "provenance": [],
      "authorship_tag": "ABX9TyNvCBE5x2a7VIaYeFCuwXTV",
      "include_colab_link": true
    },
    "kernelspec": {
      "name": "python3",
      "display_name": "Python 3"
    },
    "language_info": {
      "name": "python"
    }
  },
  "cells": [
    {
      "cell_type": "markdown",
      "metadata": {
        "id": "view-in-github",
        "colab_type": "text"
      },
      "source": [
        "<a href=\"https://colab.research.google.com/github/e-white25/RosalinandSolutions/blob/main/ROSLAND.ipynb\" target=\"_parent\"><img src=\"https://colab.research.google.com/assets/colab-badge.svg\" alt=\"Open In Colab\"/></a>"
      ]
    },
    {
      "cell_type": "markdown",
      "source": [
        "# DNA/RNA"
      ],
      "metadata": {
        "id": "K7wYOZPyBJXA"
      }
    },
    {
      "cell_type": "code",
      "execution_count": null,
      "metadata": {
        "colab": {
          "base_uri": "https://localhost:8080/"
        },
        "id": "IyNBwBjJA9ma",
        "outputId": "8cd7011e-d63c-4156-c469-0d24de13a208"
      },
      "outputs": [
        {
          "output_type": "execute_result",
          "data": {
            "text/plain": [
              "(17, 12, 20, 21)"
            ]
          },
          "metadata": {},
          "execution_count": 20
        }
      ],
      "source": [
        "##ID: DNA\n",
        "#Return: Four integers (separated by spaces) counting the respective number of times that the symbols 'A', 'C', 'G', and 'T' occur in s\n",
        "\n",
        "# Sample Dataset\n",
        "seq1 = 'AGCTTTTCATTCTGACTGCAACGGGCAATATGTCTCTGTGTGGATTAAAAAAAGAGTGTCTGATAGCAGC'\n",
        "# Sample Output\n",
        "\n",
        "def nucleotides(seq1):\n",
        "  count_g = seq1.count('G')\n",
        "  count_c = seq1.count('C')\n",
        "  count_a= seq1.count('A')\n",
        "  count_t = seq1.count('T')\n",
        "  return count_g, count_c, count_a, count_t\n",
        "\n",
        "nucleotides(seq1)"
      ]
    },
    {
      "cell_type": "code",
      "source": [
        "##ID: RNA\n",
        "#Given: A DNA string\n",
        "#Return: The RNA string (not complementary, just replace Thymine w/Uracil)\n",
        "\n",
        "#Sample Dataset\n",
        "DNA_seq = 'GATGGAACTTGACTACGTAAATT'\n",
        "\n",
        "def transcribe(DNA_seq):\n",
        "  return DNA_seq.replace('T', 'U')\n",
        "\n",
        "transcribe(DNA_seq)"
      ],
      "metadata": {
        "colab": {
          "base_uri": "https://localhost:8080/",
          "height": 36
        },
        "id": "kes4D0wmHgou",
        "outputId": "4ff73a2b-bea2-48b6-89f4-0811da6dcaa7"
      },
      "execution_count": null,
      "outputs": [
        {
          "output_type": "execute_result",
          "data": {
            "text/plain": [
              "'GAUGGAACUUGACUACGUAAAUU'"
            ],
            "application/vnd.google.colaboratory.intrinsic+json": {
              "type": "string"
            }
          },
          "metadata": {},
          "execution_count": 23
        }
      ]
    },
    {
      "cell_type": "code",
      "source": [
        "\n",
        "##ID: REVC\n",
        "# Given: A DNA string\n",
        "# Return: The reverse complement\n",
        "\n",
        "#Sample Dataset\n",
        "DNA_seq = 'AAAACCCGGT'\n",
        "\n",
        "# def reverse_complement(DNA_seq):\n",
        "#   DNA_seq = DNA_seq.replace('A', 't')\n",
        "#   DNA_seq = DNA_seq.replace('T', 'a')\n",
        "#   DNA_seq = DNA_seq.replace('C', 'g')\n",
        "#   DNA_seq = DNA_seq.replace('G', 'c')\n",
        "#   return DNA_seq(reverse_complement)\n",
        "\n",
        "cDNA_lib = {'A':'T', 'T':'A', 'C':'G', 'G':'C'}\n",
        "for b in DNA_seq [0:len(DNA_seq)]:\n",
        "  seq_complement = cDNA_lib[b]\n",
        "from os import replace\n",
        "\n",
        "##ID: Transcription\n",
        "# Given: A DNA string\n",
        "# Return: The reverse complement\n",
        "\n",
        "#Sample Dataset\n",
        "DNA_seq = 'AAAACCCGGT'\n",
        "\n",
        "# This works because there is not redundancy (as there would be if cDNA was capitalized) but isn't ideal\n",
        "# def reverse_complement(DNA_seq):\n",
        "#   DNA_seq = DNA_seq.replace('A', 't')\n",
        "#   DNA_seq = DNA_seq.replace('T', 'a')\n",
        "#   DNA_seq = DNA_seq.replace('C', 'g')\n",
        "#   DNA_seq = DNA_seq.replace('G', 'c')\n",
        "#   return DNA_seq(reverse_complement)\n",
        "\n",
        "cDNA_lib = {'A':'T', 'T':'A', 'C':'G', 'G':'C'}\n",
        "seq_complement = \"\" #create an empty string\n",
        "for base in DNA_seq:\n",
        "  seq_complement += cDNA_lib[base] #append each base to empty string\n",
        "print(seq_complement[::-1])\n"
      ],
      "metadata": {
        "colab": {
          "base_uri": "https://localhost:8080/"
        },
        "id": "GTJ2gC9eV6r6",
        "outputId": "c4eb4667-4f29-4b5f-bb71-4df2c7c9c54b"
      },
      "execution_count": 12,
      "outputs": [
        {
          "output_type": "stream",
          "name": "stdout",
          "text": [
            "ACCGGGTTTT\n"
          ]
        }
      ]
    },
    {
      "cell_type": "code",
      "source": [
        "##ID: REVC\n",
        "##Given the complementary output, provide the DNA seq Imput\n",
        "Output = 'ACCGGGTTTT'\n",
        "\n",
        "DNA_seq_lib = {'A':'T', 'T':'A', 'C':'G', 'G':'C'}\n",
        "DNA_imput = \"\"\n",
        "for b in Output:\n",
        "  DNA_imput += DNA_seq_lib[b]\n",
        "print(DNA_imput[::-1])"
      ],
      "metadata": {
        "colab": {
          "base_uri": "https://localhost:8080/"
        },
        "id": "oUrLEnchqf-x",
        "outputId": "3ce8f0c5-9b7c-41ec-a7ae-5e5b77ff0d0c"
      },
      "execution_count": 13,
      "outputs": [
        {
          "output_type": "stream",
          "name": "stdout",
          "text": [
            "AAAACCCGGT\n"
          ]
        }
      ]
    },
    {
      "cell_type": "code",
      "source": [
        "##ID: GC\n",
        "\n",
        "#A commonly used method of string labeling for DNA > FASTA format. In this format, the string is introduced by a line that begins with '>',\n",
        "# followed by labeling info. Subsequent lines contain the string itself; the first line to begin with '>' indicates the label of the next string.\n",
        "\n",
        "#In Rosalind's implementation, a string in FASTA format will be labeled by the ID \"Rosalind_xxxx\", where \"xxxx\" denotes a four-digit code between 0000 and 9999.\n",
        "#Given: At most 10 DNA strings in FASTA format (of length at most 1 kbp each).\n",
        "#Return: The ID of the string having the highest GC-content, followed by the GC-content of that string.\n",
        "#Rosalind allows for a default error of 0.001 in all decimal answers unless otherwise stated; please see the note on absolute error below.\n",
        "\n",
        "Sample Dataset\n",
        ">Rosalind_6404\n",
        "CCTGCGGAAGATCGGCACTAGAATAGCCAGAACCGTTTCTCTGAGGCTTCCGGCCTTCCC\n",
        "TCCCACTAATAATTCTGAGG\n",
        ">Rosalind_5959\n",
        "CCATCGGTAGCGCATCCTTAGTCCAATTAAGTCCCTATCCAGGCGCTCCGCCGAAGGTCT\n",
        "ATATCCATTTGTCAGCAGACACGC\n",
        ">Rosalind_0808\n",
        "CCACCCTCGTGGTATGGCTAGGCATTCAGGAACCGGAGAACGCTTCAGACCAGCCCGGAC\n",
        "TGGGAACCTGCGGGCAGTAGGTGGAAT"
      ],
      "metadata": {
        "colab": {
          "base_uri": "https://localhost:8080/",
          "height": 110
        },
        "id": "FkFLCgcgtYJR",
        "outputId": "31995b97-4e36-42e7-fa96-44aabf1c3066"
      },
      "execution_count": 17,
      "outputs": [
        {
          "output_type": "error",
          "ename": "SyntaxError",
          "evalue": "invalid syntax (<ipython-input-17-0d6b862f8a5f>, line 10)",
          "traceback": [
            "\u001b[0;36m  File \u001b[0;32m\"<ipython-input-17-0d6b862f8a5f>\"\u001b[0;36m, line \u001b[0;32m10\u001b[0m\n\u001b[0;31m    Sample Dataset\u001b[0m\n\u001b[0m           ^\u001b[0m\n\u001b[0;31mSyntaxError\u001b[0m\u001b[0;31m:\u001b[0m invalid syntax\n"
          ]
        }
      ]
    },
    {
      "cell_type": "code",
      "source": [
        "##"
      ],
      "metadata": {
        "id": "BXOeNmRJ3wqM"
      },
      "execution_count": null,
      "outputs": []
    }
  ]
}